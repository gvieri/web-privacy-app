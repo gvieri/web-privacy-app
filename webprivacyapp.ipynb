{
  "nbformat": 4,
  "nbformat_minor": 0,
  "metadata": {
    "colab": {
      "name": "Untitled10.ipynb",
      "provenance": []
    },
    "kernelspec": {
      "name": "python3",
      "display_name": "Python 3"
    }
  },
  "cells": [
    {
      "cell_type": "markdown",
      "metadata": {
        "id": "8foJYWv5PIGA"
      },
      "source": [
        "# Author Giovambattista Vieri\n",
        "# (c) Giovambattista Vieri 2020 all rights reserved\n",
        "# License GNU AFFERO GPL"
      ]
    },
    {
      "cell_type": "code",
      "metadata": {
        "id": "kPhDgcMnyuDc"
      },
      "source": [
        "!pip install selenium\n",
        "!apt-get update # to update ubuntu to correctly run apt install\n",
        "!apt install chromium-chromedriver\n",
        "!cp /usr/lib/chromium-browser/chromedriver /usr/bin\n",
        "\n",
        "import sys\n",
        "import json\n",
        "import pandas as pd\n",
        "\n",
        "sys.path.insert(0,'/usr/lib/chromium-browser/chromedriver')\n",
        "from selenium import webdriver\n",
        "import time\n",
        "from ipywidgets import widgets\n",
        "\n",
        "chrome_options = webdriver.ChromeOptions()\n",
        "chrome_options.add_argument('--headless')\n",
        "chrome_options.add_argument('--no-sandbox')\n",
        "chrome_options.add_argument('--disable-dev-shm-usage')\n",
        "browser = webdriver.Chrome('chromedriver',options=chrome_options)\n",
        "\n",
        "\n"
      ],
      "execution_count": null,
      "outputs": []
    },
    {
      "cell_type": "code",
      "metadata": {
        "id": "ZAYBq78JBJic"
      },
      "source": [
        "from ipywidgets import widgets\n",
        "\n",
        "from pprint import pprint\n",
        "\n",
        "lbl1=widgets.Label('Please insert url complete with http/https')\n",
        "txt1=widgets.Text(placeholder='insert valid url')\n",
        "lbl2=widgets.Label('Cookie information selector')\n",
        "lbl3=widgets.Label('   ')\n",
        "tog1=widgets.ToggleButton(value=False,description='secure',  tooltip='enable or disable in report')\n",
        "tog2=widgets.ToggleButton(value=False,description='value',   tooltip='enable or disable in report')\n",
        "tog3=widgets.ToggleButton(value=False,description='sameSite',tooltip='enable or disable in report')\n",
        "tog4=widgets.ToggleButton(value=False,description='httpOnly',tooltip='enable or disable in report')\n",
        "tog5=widgets.ToggleButton(value=False,description='cookies raw',tooltip='enable or disable in report')\n",
        "#accordion = widgets.Accordion(children=[tog1,tog2,tog3,tog4])\n",
        "vbox=widgets.VBox([tog1,tog2,tog3,tog4,tog5, lbl3])\n",
        "bttn1=widgets.Button(description='proceed')\n",
        "def proceed(b):\n",
        "    url=str(txt1.value)\n",
        "    browser.get(url)\n",
        "    time.sleep(2)\n",
        "    print (f\"===== cookie/s for {url} =====\\n\")\n",
        "    cookies = browser.get_cookies()\n",
        " #   pprint(cookies)\n",
        "    links=browser.find_elements_by_tag_name('link')\n",
        "    cook=pd.DataFrame(cookies).reindex(['domain','expiry','name','path','secure','value','sameSite','httpOnly'],axis=\"columns\")\n",
        "    pd.set_option('display.max_columns', 1000)\n",
        "    pd.set_option('display.width', 132)\n",
        " ###   pd.set_option('display.max_colwidth', 40)\n",
        " \n",
        "#########    col0=['domain','expiry','name','path','secure','value','sameSite','httpOnly']\n",
        "    col0=['domain','expiry','name','path']\n",
        "    if(tog1.value):\n",
        "        col0.append('secure')\n",
        "\n",
        "    if(tog2.value):\n",
        "        col0.append('value')\n",
        "\n",
        "    if(tog3.value):\n",
        "        col0.append('sameSite')\n",
        "\n",
        "    if(tog4.value):\n",
        "        col0.append('httpOnly')\n",
        "\n",
        "    res=cook[col0]\n",
        "    print(res)\n",
        "    if(tog5.value):\n",
        "        for cookie in cookies:\n",
        "            print(cookie)\n",
        "    \n",
        "    print(f\"+++++ links/s for {url} ++++++\\n\")\n",
        "    for link in links:\n",
        "        href = link.get_attribute('href')\n",
        "        print (href)\n",
        "    print(f\"-----  end for {url} -----\\n\") \n",
        "bttn1.on_click(proceed)\n",
        "display(lbl1,txt1,lbl2,vbox,bttn1)\n"
      ],
      "execution_count": null,
      "outputs": []
    },
    {
      "cell_type": "code",
      "metadata": {
        "id": "DtUNpFjR63N1"
      },
      "source": [
        ""
      ],
      "execution_count": null,
      "outputs": []
    }
  ]
}
